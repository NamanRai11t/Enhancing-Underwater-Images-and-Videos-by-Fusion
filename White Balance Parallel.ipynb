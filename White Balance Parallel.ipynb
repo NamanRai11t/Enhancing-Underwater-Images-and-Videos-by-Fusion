{
 "cells": [
  {
   "cell_type": "code",
   "execution_count": 40,
   "metadata": {},
   "outputs": [],
   "source": [
    "import cv2\n",
    "import numpy as np\n",
    "import matplotlib.pyplot as plt\n",
    "from skimage import exposure as ex\n",
    "import imageio\n",
    "import math\n",
    "import threading as th\n",
    "import time\n",
    "import queue\n",
    "import sys"
   ]
  },
  {
   "cell_type": "code",
   "execution_count": 41,
   "metadata": {},
   "outputs": [],
   "source": [
    "\n",
    "def calculatePx(pmg, brightest, i):\n",
    "    pmg[i] = np.minimum(pmg[i]*(brightest/float(pmg[i].max())), 255)\n",
    "\n",
    "def white_balance(nimg):\n",
    "    if nimg.dtype==np.uint8:\n",
    "        brightest=float(2**8)\n",
    "    elif nimg.dtype==np.uinAt16:\n",
    "        brightest=float(2**16)\n",
    "    elif nimg.dtype==np.uint32:\n",
    "        brightest=float(2**32)\n",
    "    else:\n",
    "        brightest==float(2**8)\n",
    "    nimg = nimg.transpose(2, 0, 1)\n",
    "    nimg = nimg.astype(np.int32)\n",
    "    \n",
    "    que = queue.Queue()\n",
    "    \n",
    "    x1 = th.Thread(target=lambda q, arg1, arg2, arg3: q.put(calculatePx(arg1, arg2, arg3)), args=(que, nimg, brightest, 0))\n",
    "    x2 = th.Thread(target=lambda q, arg1, arg2, arg3: q.put(calculatePx(arg1, arg2, arg3)), args=(que, nimg, brightest, 1))\n",
    "    x3 = th.Thread(target=lambda q, arg1, arg2, arg3: q.put(calculatePx(arg1, arg2, arg3)), args=(que, nimg, brightest, 2))\n",
    "    x1.start()\n",
    "    x2.start()\n",
    "    x3.start()\n",
    "    x1.join()\n",
    "    x2.join()\n",
    "    x3.join()\n",
    "    \n",
    "    return nimg.transpose(1, 2, 0).astype(np.uint8)"
   ]
  },
  {
   "cell_type": "code",
   "execution_count": 42,
   "metadata": {},
   "outputs": [],
   "source": [
    "\n",
    "def white_balance_serial(nimg):\n",
    "    if nimg.dtype==np.uint8:\n",
    "        brightest=float(2**8)\n",
    "    elif nimg.dtype==np.uinAt16:\n",
    "        brightest=float(2**16)\n",
    "    elif nimg.dtype==np.uint32:\n",
    "        brightest=float(2**32)\n",
    "    else:\n",
    "        brightest==float(2**8)\n",
    "    nimg = nimg.transpose(2, 0, 1)\n",
    "    nimg = nimg.astype(np.int32)\n",
    "    nimg[0] = np.minimum(nimg[0] * (brightest/float(nimg[0].max())),255)\n",
    "    nimg[1] = np.minimum(nimg[1] * (brightest/float(nimg[1].max())),255)\n",
    "    nimg[2] = np.minimum(nimg[2] * (brightest/float(nimg[2].max())),255)\n",
    "    return nimg.transpose(1, 2, 0).astype(np.uint8)"
   ]
  },
  {
   "cell_type": "code",
   "execution_count": 43,
   "metadata": {},
   "outputs": [],
   "source": [
    "amg = cv2.imread(\"01.jpg\")\n",
    "pll_image = white_balance(amg)\n",
    "\n",
    "\n",
    "cv2.imshow(\"\",pll_image)\n",
    "cv2.waitKey(0)\n",
    "cv2.destroyAllWindows()"
   ]
  },
  {
   "cell_type": "code",
   "execution_count": 44,
   "metadata": {},
   "outputs": [],
   "source": [
    "amg = cv2.imread(\"01.jpg\")\n",
    "pll_image = white_balance_serial(amg)\n",
    "\n",
    "\n",
    "cv2.imshow(\"\",pll_image)\n",
    "cv2.waitKey(0)\n",
    "cv2.destroyAllWindows()"
   ]
  },
  {
   "cell_type": "code",
   "execution_count": null,
   "metadata": {},
   "outputs": [],
   "source": []
  }
 ],
 "metadata": {
  "kernelspec": {
   "display_name": "Python 3",
   "language": "python",
   "name": "python3"
  },
  "language_info": {
   "codemirror_mode": {
    "name": "ipython",
    "version": 3
   },
   "file_extension": ".py",
   "mimetype": "text/x-python",
   "name": "python",
   "nbconvert_exporter": "python",
   "pygments_lexer": "ipython3",
   "version": "3.6.5"
  }
 },
 "nbformat": 4,
 "nbformat_minor": 2
}
